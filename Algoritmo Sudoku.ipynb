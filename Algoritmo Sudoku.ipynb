{
 "cells": [
  {
   "cell_type": "markdown",
   "metadata": {},
   "source": [
    "\n",
    "# Sudoku\n",
    "# Inteligência Artificial - Professor Favan\n",
    "# Geísa e Fabrício"
   ]
  },
  {
   "cell_type": "code",
   "execution_count": 18,
   "metadata": {},
   "outputs": [],
   "source": [
    "# Importação das bibliotecas.\n",
    "import random\n",
    "import numpy"
   ]
  },
  {
   "cell_type": "code",
   "execution_count": 19,
   "metadata": {},
   "outputs": [],
   "source": [
    "# Função apenas pra deixar o print do tabuleiro bonito,\n",
    "# pode usar apenas o numpy para mostrar a matriz organizada\n",
    "def Printgrid(Grid):\n",
    "    TableTB = \"|--------------------------------|\"\n",
    "    TableMD = \"|----------+----------+----------|\"\n",
    "    print(TableTB)\n",
    "    for x in range(9):\n",
    "        for y in range(9):\n",
    "            if ((x == 3 or x == 6) and y == 0):\n",
    "                print(TableMD)\n",
    "            if (y == 0 or y == 3 or y== 6):\n",
    "                print(\"|\", end=\" \")\n",
    "            print(\" \" + str(Grid[x][y]), end=\" \")\n",
    "            if (y == 8):\n",
    "                print(\"|\")\n",
    "    print(TableTB)"
   ]
  },
  {
   "cell_type": "markdown",
   "metadata": {},
   "source": [
    "<p><b> AMBIENTE </b></p>"
   ]
  },
  {
   "cell_type": "code",
   "execution_count": 35,
   "metadata": {},
   "outputs": [],
   "source": [
    "# Criando tabuleiro gerado aleatoriamente\n",
    "\n",
    "def gera_sudoku():\n",
    "    Grid = [[0 for x in range(9)] for y in range(9)]\n",
    "            \n",
    "    for i in range(9):\n",
    "        for j in range(9):\n",
    "            Grid[i][j] = 0\n",
    "            \n",
    "    for i in range(15):\n",
    "        row = random.randrange(9)\n",
    "        col = random.randrange(9)\n",
    "        num = random.randrange(1,10)\n",
    "        while(not valida_aleatorio(Grid,row,col,num) or Grid[row][col] != 0): \n",
    "            row = random.randrange(9)\n",
    "            col = random.randrange(9)\n",
    "            num = random.randrange(1,10)\n",
    "        Grid[row][col]= num;\n",
    "    return (Grid)\n",
    "\n",
    "def valida_aleatorio(Grid,row,col,num):\n",
    "    #check if in row\n",
    "    valid = True\n",
    "    #check row and collumn\n",
    "    for x in range(9):\n",
    "        if (Grid[x][col] == num):\n",
    "            valid = False\n",
    "    for y in range(9):\n",
    "        if (Grid[row][y] == num):\n",
    "            valid = False\n",
    "    rowsection = row // 3\n",
    "    colsection = col // 3\n",
    "    for x in range(3):\n",
    "        for y in range(3):\n",
    "            #check if section is valid\n",
    "            if(Grid[rowsection*3 + x][colsection*3 + y] == num):\n",
    "                valid = False\n",
    "    return valid"
   ]
  },
  {
   "cell_type": "code",
   "execution_count": 38,
   "metadata": {},
   "outputs": [],
   "source": [
    "aleatorio = gera_sudoku()\n",
    "print (numpy.array(aleatorio))\n",
    "Printgrid(aleatorio)"
   ]
  },
  {
   "cell_type": "code",
   "execution_count": 39,
   "metadata": {},
   "outputs": [],
   "source": [
    "# Tabuleiros escolhidos previamente\n",
    "Tab_def = [[5,1,7,6,0,0,0,3,4],\n",
    "         [2,8,9,0,0,4,0,0,0],\n",
    "         [3,4,6,2,0,5,0,9,0],\n",
    "         [6,0,2,0,0,0,0,1,0],\n",
    "         [0,3,8,0,0,6,0,4,7],\n",
    "         [0,0,0,0,0,0,0,0,0],\n",
    "         [0,9,0,0,0,0,0,7,8],\n",
    "         [7,0,3,4,0,0,5,6,0],\n",
    "         [0,0,0,0,0,0,0,0,0]]\n",
    "\n",
    "\n",
    "Tab_def_hard1 = [[0,8,0,4,7,9,0,0,2],\n",
    "         [0,0,7,0,0,2,0,0,0],\n",
    "         [0,0,0,5,0,0,0,6,4],\n",
    "         [2,4,3,0,0,7,0,0,0],\n",
    "         [8,0,0,9,1,0,0,0,0],\n",
    "         [0,0,1,0,0,0,0,0,0],\n",
    "         [6,0,0,3,0,5,0,0,0],\n",
    "         [0,0,8,0,0,0,0,0,9],\n",
    "         [3,7,0,0,9,1,2,0,0]]\n",
    "\n",
    "Tab_def_hard2 = [[0,0,0,0,0,6,0,0,0],\n",
    "         [9,3,0,5,0,0,0,0,0],\n",
    "         [0,0,0,0,0,0,8,9,1],\n",
    "         [0,0,0,0,0,0,0,1,0],\n",
    "         [5,0,0,4,0,0,0,0,7],\n",
    "         [0,6,0,9,1,0,2,5,0],\n",
    "         [0,7,0,0,0,0,5,0,0],\n",
    "         [2,0,0,0,6,0,4,0,0],\n",
    "         [8,5,0,0,0,4,0,0,2]]\n",
    "\n",
    "Tab_def_expert = [[0,0,0,1,0,0,0,7,0],\n",
    "         [0,3,0,0,0,0,0,6,0],\n",
    "         [0,0,2,0,6,4,5,0,0],\n",
    "         [0,0,0,0,0,0,0,4,0],\n",
    "         [0,5,0,0,0,0,0,0,0],\n",
    "         [0,0,0,2,0,6,8,9,1],\n",
    "         [0,0,0,9,0,0,0,0,7],\n",
    "         [8,6,5,0,2,0,0,0,0],\n",
    "         [0,0,1,0,0,3,0,0,0]]\n"
   ]
  },
  {
   "cell_type": "markdown",
   "metadata": {},
   "source": [
    "<p><b> SENSOR </b></p>"
   ]
  },
  {
   "cell_type": "code",
   "execution_count": 40,
   "metadata": {},
   "outputs": [],
   "source": [
    "def busca_vazio(grid, i, j):\n",
    "        for x in range(i,9):\n",
    "                for y in range(j,9):\n",
    "                        if grid[x][y] == 0:\n",
    "                                return x,y\n",
    "        for x in range(0,9):\n",
    "                for y in range(0,9):\n",
    "                        if grid[x][y] == 0:\n",
    "                                return x,y\n",
    "        return -1,-1\n",
    "    \n",
    "def validacao(grid, i, j, e):\n",
    "        rowOk = all([e != grid[i][x] for x in range(9)])\n",
    "        if rowOk:\n",
    "                columnOk = all([e != grid[x][j] for x in range(9)])\n",
    "                if columnOk:\n",
    "                        # finding the top left x,y co-ordinates of the section containing the i,j cell\n",
    "                        secTopX, secTopY = 3 *(i//3), 3 *(j//3) #floored quotient should be used here. \n",
    "                        for x in range(secTopX, secTopX+3):\n",
    "                                for y in range(secTopY, secTopY+3):\n",
    "                                        if grid[x][y] == e:\n",
    "                                                return False\n",
    "                        return True\n",
    "        return False"
   ]
  },
  {
   "cell_type": "markdown",
   "metadata": {},
   "source": [
    "<p><b> ATUADOR </b></p>"
   ]
  },
  {
   "cell_type": "code",
   "execution_count": 41,
   "metadata": {},
   "outputs": [],
   "source": [
    "\n",
    "def resolucao_sudoku(grid, i=0, j=0):\n",
    "        i,j = busca_vazio(grid, i, j)\n",
    "        if i == -1:\n",
    "                return True\n",
    "        for e in range(1,10):\n",
    "                if validacao(grid,i,j,e):\n",
    "                        grid[i][j] = e \n",
    "                        if resolucao_sudoku(grid, i, j):\n",
    "                                return True, grid\n",
    "                        # Undo the current cell for backtracking\n",
    "                        grid[i][j] = 0\n",
    "        return False"
   ]
  },
  {
   "cell_type": "markdown",
   "metadata": {},
   "source": [
    "<p><b> Testes </b></p>"
   ]
  },
  {
   "cell_type": "markdown",
   "metadata": {},
   "source": [
    "Tabuleiro gerado aleatoriamente"
   ]
  },
  {
   "cell_type": "code",
   "execution_count": 53,
   "metadata": {},
   "outputs": [
    {
     "name": "stdout",
     "output_type": "stream",
     "text": [
      "|--------------------------------|\n",
      "|  1  4  5 |  6  3  2 |  9  8  7 |\n",
      "|  7  6  8 |  4  1  9 |  5  2  3 |\n",
      "|  2  3  9 |  8  5  7 |  1  6  4 |\n",
      "|----------+----------+----------|\n",
      "|  5  7  3 |  9  8  4 |  6  1  2 |\n",
      "|  4  8  1 |  2  6  3 |  7  9  5 |\n",
      "|  6  9  2 |  5  7  1 |  4  3  8 |\n",
      "|----------+----------+----------|\n",
      "|  8  1  4 |  7  2  6 |  3  5  9 |\n",
      "|  3  2  7 |  1  9  5 |  8  4  6 |\n",
      "|  9  5  6 |  3  4  8 |  2  7  1 |\n",
      "|--------------------------------|\n"
     ]
    }
   ],
   "source": [
    "Printgrid(aleatorio)"
   ]
  },
  {
   "cell_type": "code",
   "execution_count": 52,
   "metadata": {},
   "outputs": [],
   "source": [
    "resultadoaleatorio = resolucao_sudoku(aleatorio)\n",
    "#Printgrid(resultadoaleatorio[1])"
   ]
  },
  {
   "cell_type": "markdown",
   "metadata": {},
   "source": [
    "Tabuleiros inseridos manualmente"
   ]
  },
  {
   "cell_type": "code",
   "execution_count": 44,
   "metadata": {},
   "outputs": [
    {
     "name": "stdout",
     "output_type": "stream",
     "text": [
      "|--------------------------------|\n",
      "|  5  1  7 |  6  0  0 |  0  3  4 |\n",
      "|  2  8  9 |  0  0  4 |  0  0  0 |\n",
      "|  3  4  6 |  2  0  5 |  0  9  0 |\n",
      "|----------+----------+----------|\n",
      "|  6  0  2 |  0  0  0 |  0  1  0 |\n",
      "|  0  3  8 |  0  0  6 |  0  4  7 |\n",
      "|  0  0  0 |  0  0  0 |  0  0  0 |\n",
      "|----------+----------+----------|\n",
      "|  0  9  0 |  0  0  0 |  0  7  8 |\n",
      "|  7  0  3 |  4  0  0 |  5  6  0 |\n",
      "|  0  0  0 |  0  0  0 |  0  0  0 |\n",
      "|--------------------------------|\n"
     ]
    }
   ],
   "source": [
    "# ========= Dificuldade: normal ==============\n",
    "Printgrid(Tab_def)"
   ]
  },
  {
   "cell_type": "code",
   "execution_count": 51,
   "metadata": {},
   "outputs": [],
   "source": [
    "normal = resolucao_sudoku(Tab_def)\n",
    "Printgrid(normal[1])"
   ]
  },
  {
   "cell_type": "code",
   "execution_count": 46,
   "metadata": {},
   "outputs": [
    {
     "name": "stdout",
     "output_type": "stream",
     "text": [
      "|--------------------------------|\n",
      "|  0  8  0 |  4  7  9 |  0  0  2 |\n",
      "|  0  0  7 |  0  0  2 |  0  0  0 |\n",
      "|  0  0  0 |  5  0  0 |  0  6  4 |\n",
      "|----------+----------+----------|\n",
      "|  2  4  3 |  0  0  7 |  0  0  0 |\n",
      "|  8  0  0 |  9  1  0 |  0  0  0 |\n",
      "|  0  0  1 |  0  0  0 |  0  0  0 |\n",
      "|----------+----------+----------|\n",
      "|  6  0  0 |  3  0  5 |  0  0  0 |\n",
      "|  0  0  8 |  0  0  0 |  0  0  9 |\n",
      "|  3  7  0 |  0  9  1 |  2  0  0 |\n",
      "|--------------------------------|\n"
     ]
    }
   ],
   "source": [
    "# ========== Dificuldade: difícil ================\n",
    "Printgrid(Tab_def_hard1)"
   ]
  },
  {
   "cell_type": "code",
   "execution_count": 50,
   "metadata": {},
   "outputs": [],
   "source": [
    "dificil1 = resolucao_sudoku(Tab_def_hard1)\n",
    "#Printgrid(dificil1[1])"
   ]
  },
  {
   "cell_type": "code",
   "execution_count": 48,
   "metadata": {},
   "outputs": [
    {
     "name": "stdout",
     "output_type": "stream",
     "text": [
      "|--------------------------------|\n",
      "|  0  0  0 |  1  0  0 |  0  7  0 |\n",
      "|  0  3  0 |  0  0  0 |  0  6  0 |\n",
      "|  0  0  2 |  0  6  4 |  5  0  0 |\n",
      "|----------+----------+----------|\n",
      "|  0  0  0 |  0  0  0 |  0  4  0 |\n",
      "|  0  5  0 |  0  0  0 |  0  0  0 |\n",
      "|  0  0  0 |  2  0  6 |  8  9  1 |\n",
      "|----------+----------+----------|\n",
      "|  0  0  0 |  9  0  0 |  0  0  7 |\n",
      "|  8  6  5 |  0  2  0 |  0  0  0 |\n",
      "|  0  0  1 |  0  0  3 |  0  0  0 |\n",
      "|--------------------------------|\n"
     ]
    }
   ],
   "source": [
    "# ============ Dificuldade: expert ==============\n",
    "Printgrid(Tab_def_expert)"
   ]
  },
  {
   "cell_type": "code",
   "execution_count": 49,
   "metadata": {},
   "outputs": [],
   "source": [
    "expert = resolucao_sudoku(Tab_def_expert)\n",
    "#Printgrid(expert[1])"
   ]
  },
  {
   "cell_type": "code",
   "execution_count": null,
   "metadata": {},
   "outputs": [],
   "source": []
  }
 ],
 "metadata": {
  "kernelspec": {
   "display_name": "Python 3",
   "language": "python",
   "name": "python3"
  },
  "language_info": {
   "codemirror_mode": {
    "name": "ipython",
    "version": 3
   },
   "file_extension": ".py",
   "mimetype": "text/x-python",
   "name": "python",
   "nbconvert_exporter": "python",
   "pygments_lexer": "ipython3",
   "version": "3.8.3"
  }
 },
 "nbformat": 4,
 "nbformat_minor": 4
}
